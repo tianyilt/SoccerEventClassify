{
 "cells": [
  {
   "cell_type": "markdown",
   "metadata": {},
   "source": [
    "# 足球比赛事件分类介绍\n",
    "该问题属于细粒度体育视频描述的问题，基于视频分类事件\n",
    "\n",
    "当前现有研究有\n",
    "[SoccerNet](https://github.com/SilvioGiancola/SoccerNet-code)"
   ]
  },
  {
   "cell_type": "markdown",
   "metadata": {
    "pycharm": {
     "name": "#%%\n"
    }
   },
   "source": [
    "## 目标"
   ]
  },
  {
   "cell_type": "markdown",
   "metadata": {},
   "source": [
    "![总目标](./总目标.jpg)"
   ]
  },
  {
   "cell_type": "markdown",
   "metadata": {},
   "source": [
    "## 术语记录\n",
    "block扑救\n",
    "corner角球\n",
    "foul犯规\n",
    "freekick 任意球\n",
    "goal 进球\n",
    "kickoff 开球\n",
    "None 其他\n",
    "owngoal乌龙球\n",
    "penalty 点球\n",
    "red card 红牌\n",
    "shot射门\n",
    "substitution off换人\n",
    "yellow card 黄牌\n",
    "Reception\n",
    "Gaining\n",
    "Neutral contact\n",
    "Running with ball\n",
    "Shot not on target\n",
    "Clearance\n",
    "Air duel\n"
   ]
  },
  {
   "cell_type": "markdown",
   "metadata": {},
   "source": [
    "## 甲方资料"
   ]
  },
  {
   "cell_type": "markdown",
   "metadata": {},
   "source": [
    "### 类别\n"
   ]
  },
  {
   "cell_type": "code",
   "execution_count": null,
   "metadata": {},
   "outputs": [],
   "source": []
  },
  {
   "cell_type": "markdown",
   "metadata": {},
   "source": [
    "# 数据处理"
   ]
  },
  {
   "cell_type": "code",
   "execution_count": null,
   "metadata": {},
   "outputs": [],
   "source": []
  }
 ],
 "metadata": {
  "kernelspec": {
   "display_name": "Python 3",
   "language": "python",
   "name": "python3"
  },
  "language_info": {
   "codemirror_mode": {
    "name": "ipython",
    "version": 3
   },
   "file_extension": ".py",
   "mimetype": "text/x-python",
   "name": "python",
   "nbconvert_exporter": "python",
   "pygments_lexer": "ipython3",
   "version": "3.7.1"
  },
  "pycharm": {
   "stem_cell": {
    "cell_type": "raw",
    "metadata": {
     "collapsed": false
    },
    "source": [
     "\n"
    ]
   }
  }
 },
 "nbformat": 4,
 "nbformat_minor": 2
}
